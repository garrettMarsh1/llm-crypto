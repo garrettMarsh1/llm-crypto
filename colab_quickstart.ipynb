{
  "cells": [
    {
      "cell_type": "markdown",
      "metadata": {},
      "source": [
        "# Crypto Trading LLM - Google Colab Quickstart\n",
        "\n",
        "This notebook demonstrates how to use the Crypto Trading LLM package in Google Colab with better GPUs.\n",
        "\n",
        "## Features:\n",
        "- Memory-efficient training on large datasets\n",
        "- Parquet chunk processing\n",
        "- 4-bit quantization with LoRA\n",
        "- Easy installation and usage\n"
      ]
    },
    {
      "cell_type": "markdown",
      "metadata": {},
      "source": [
        "## 1. Install the Package\n"
      ]
    },
    {
      "cell_type": "code",
      "execution_count": null,
      "metadata": {},
      "outputs": [],
      "source": [
        "# Install the package from GitHub\n",
        "%pip install git+https://github.com/yourusername/crypto-trading-llm.git\n",
        "\n",
        "# Or install from local if you uploaded the package\n",
        "# %pip install /content/crypto-trading-llm\n",
        "\n",
        "# Install additional Colab dependencies\n",
        "%pip install google-colab\n"
      ]
    }
  ],
  "metadata": {
    "language_info": {
      "name": "python"
    }
  },
  "nbformat": 4,
  "nbformat_minor": 2
}
